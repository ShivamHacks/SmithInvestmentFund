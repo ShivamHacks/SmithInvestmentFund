{
 "cells": [
  {
   "cell_type": "code",
   "execution_count": 1,
   "metadata": {},
   "outputs": [],
   "source": [
    "import pandas as pd\n",
    "import numpy as np"
   ]
  },
  {
   "cell_type": "code",
   "execution_count": 2,
   "metadata": {},
   "outputs": [],
   "source": [
    "compustat = pd.read_csv(\"Compustat19612018.csv\")\n",
    "crsp = pd.read_csv(\"CRSP2007_2018.csv\")\n",
    "linking_table = pd.read_csv(\"CompustatMergedDatabase.csv\")"
   ]
  },
  {
   "cell_type": "code",
   "execution_count": 3,
   "metadata": {},
   "outputs": [
    {
     "data": {
      "text/html": [
       "<div>\n",
       "<style scoped>\n",
       "    .dataframe tbody tr th:only-of-type {\n",
       "        vertical-align: middle;\n",
       "    }\n",
       "\n",
       "    .dataframe tbody tr th {\n",
       "        vertical-align: top;\n",
       "    }\n",
       "\n",
       "    .dataframe thead th {\n",
       "        text-align: right;\n",
       "    }\n",
       "</style>\n",
       "<table border=\"1\" class=\"dataframe\">\n",
       "  <thead>\n",
       "    <tr style=\"text-align: right;\">\n",
       "      <th></th>\n",
       "      <th>gvkey</th>\n",
       "      <th>conm</th>\n",
       "      <th>LINKPRIM</th>\n",
       "      <th>LIID</th>\n",
       "      <th>LINKTYPE</th>\n",
       "      <th>LPERMNO</th>\n",
       "      <th>LPERMCO</th>\n",
       "      <th>LINKDT</th>\n",
       "      <th>LINKENDDT</th>\n",
       "    </tr>\n",
       "  </thead>\n",
       "  <tbody>\n",
       "    <tr>\n",
       "      <th>0</th>\n",
       "      <td>1000</td>\n",
       "      <td>A &amp; E PLASTIK PAK INC</td>\n",
       "      <td>P</td>\n",
       "      <td>01</td>\n",
       "      <td>LU</td>\n",
       "      <td>25881</td>\n",
       "      <td>23369</td>\n",
       "      <td>19701113</td>\n",
       "      <td>19780630</td>\n",
       "    </tr>\n",
       "    <tr>\n",
       "      <th>1</th>\n",
       "      <td>1001</td>\n",
       "      <td>A &amp; M FOOD SERVICES INC</td>\n",
       "      <td>P</td>\n",
       "      <td>01</td>\n",
       "      <td>LU</td>\n",
       "      <td>10015</td>\n",
       "      <td>6398</td>\n",
       "      <td>19830920</td>\n",
       "      <td>19860731</td>\n",
       "    </tr>\n",
       "    <tr>\n",
       "      <th>2</th>\n",
       "      <td>1002</td>\n",
       "      <td>AAI CORP</td>\n",
       "      <td>C</td>\n",
       "      <td>01</td>\n",
       "      <td>LC</td>\n",
       "      <td>10023</td>\n",
       "      <td>22159</td>\n",
       "      <td>19721214</td>\n",
       "      <td>19730605</td>\n",
       "    </tr>\n",
       "    <tr>\n",
       "      <th>3</th>\n",
       "      <td>1003</td>\n",
       "      <td>A.A. IMPORTING CO INC</td>\n",
       "      <td>C</td>\n",
       "      <td>01</td>\n",
       "      <td>LU</td>\n",
       "      <td>10031</td>\n",
       "      <td>6672</td>\n",
       "      <td>19831207</td>\n",
       "      <td>19890816</td>\n",
       "    </tr>\n",
       "    <tr>\n",
       "      <th>4</th>\n",
       "      <td>1004</td>\n",
       "      <td>AAR CORP</td>\n",
       "      <td>P</td>\n",
       "      <td>01</td>\n",
       "      <td>LU</td>\n",
       "      <td>54594</td>\n",
       "      <td>20000</td>\n",
       "      <td>19720424</td>\n",
       "      <td>E</td>\n",
       "    </tr>\n",
       "  </tbody>\n",
       "</table>\n",
       "</div>"
      ],
      "text/plain": [
       "   gvkey                     conm LINKPRIM LIID LINKTYPE  LPERMNO  LPERMCO  \\\n",
       "0   1000    A & E PLASTIK PAK INC        P   01       LU    25881    23369   \n",
       "1   1001  A & M FOOD SERVICES INC        P   01       LU    10015     6398   \n",
       "2   1002                 AAI CORP        C   01       LC    10023    22159   \n",
       "3   1003    A.A. IMPORTING CO INC        C   01       LU    10031     6672   \n",
       "4   1004                 AAR CORP        P   01       LU    54594    20000   \n",
       "\n",
       "     LINKDT LINKENDDT  \n",
       "0  19701113  19780630  \n",
       "1  19830920  19860731  \n",
       "2  19721214  19730605  \n",
       "3  19831207  19890816  \n",
       "4  19720424         E  "
      ]
     },
     "execution_count": 3,
     "metadata": {},
     "output_type": "execute_result"
    }
   ],
   "source": [
    "# We need link gvkey to compustat if compustat.datadate is between linking_table.LINKDT and linking_table.LINKENDDT\n",
    "linking_table.head()"
   ]
  },
  {
   "cell_type": "code",
   "execution_count": 16,
   "metadata": {},
   "outputs": [
    {
     "data": {
      "text/html": [
       "<div>\n",
       "<style scoped>\n",
       "    .dataframe tbody tr th:only-of-type {\n",
       "        vertical-align: middle;\n",
       "    }\n",
       "\n",
       "    .dataframe tbody tr th {\n",
       "        vertical-align: top;\n",
       "    }\n",
       "\n",
       "    .dataframe thead th {\n",
       "        text-align: right;\n",
       "    }\n",
       "</style>\n",
       "<table border=\"1\" class=\"dataframe\">\n",
       "  <thead>\n",
       "    <tr style=\"text-align: right;\">\n",
       "      <th></th>\n",
       "      <th>gvkey</th>\n",
       "      <th>datadate</th>\n",
       "      <th>fyear</th>\n",
       "      <th>indfmt</th>\n",
       "      <th>consol</th>\n",
       "      <th>popsrc</th>\n",
       "      <th>datafmt</th>\n",
       "      <th>tic</th>\n",
       "      <th>curcd</th>\n",
       "      <th>act</th>\n",
       "      <th>...</th>\n",
       "      <th>pstkrv</th>\n",
       "      <th>re</th>\n",
       "      <th>revt</th>\n",
       "      <th>sale</th>\n",
       "      <th>seq</th>\n",
       "      <th>tie</th>\n",
       "      <th>txp</th>\n",
       "      <th>txt</th>\n",
       "      <th>costat</th>\n",
       "      <th>datadate_date</th>\n",
       "    </tr>\n",
       "  </thead>\n",
       "  <tbody>\n",
       "    <tr>\n",
       "      <th>0</th>\n",
       "      <td>1000</td>\n",
       "      <td>12/31/1961</td>\n",
       "      <td>1961</td>\n",
       "      <td>INDL</td>\n",
       "      <td>C</td>\n",
       "      <td>D</td>\n",
       "      <td>STD</td>\n",
       "      <td>AE.2</td>\n",
       "      <td>USD</td>\n",
       "      <td>NaN</td>\n",
       "      <td>...</td>\n",
       "      <td>NaN</td>\n",
       "      <td>NaN</td>\n",
       "      <td>0.900</td>\n",
       "      <td>0.900</td>\n",
       "      <td>NaN</td>\n",
       "      <td>NaN</td>\n",
       "      <td>NaN</td>\n",
       "      <td>0.050</td>\n",
       "      <td>I</td>\n",
       "      <td>1961-12-31</td>\n",
       "    </tr>\n",
       "    <tr>\n",
       "      <th>1</th>\n",
       "      <td>1000</td>\n",
       "      <td>12/31/1962</td>\n",
       "      <td>1962</td>\n",
       "      <td>INDL</td>\n",
       "      <td>C</td>\n",
       "      <td>D</td>\n",
       "      <td>STD</td>\n",
       "      <td>AE.2</td>\n",
       "      <td>USD</td>\n",
       "      <td>NaN</td>\n",
       "      <td>...</td>\n",
       "      <td>NaN</td>\n",
       "      <td>NaN</td>\n",
       "      <td>1.600</td>\n",
       "      <td>1.600</td>\n",
       "      <td>NaN</td>\n",
       "      <td>NaN</td>\n",
       "      <td>NaN</td>\n",
       "      <td>0.090</td>\n",
       "      <td>I</td>\n",
       "      <td>1962-12-31</td>\n",
       "    </tr>\n",
       "    <tr>\n",
       "      <th>2</th>\n",
       "      <td>1000</td>\n",
       "      <td>12/31/1963</td>\n",
       "      <td>1963</td>\n",
       "      <td>INDL</td>\n",
       "      <td>C</td>\n",
       "      <td>D</td>\n",
       "      <td>STD</td>\n",
       "      <td>AE.2</td>\n",
       "      <td>USD</td>\n",
       "      <td>0.408</td>\n",
       "      <td>...</td>\n",
       "      <td>0.0</td>\n",
       "      <td>0.052</td>\n",
       "      <td>1.457</td>\n",
       "      <td>1.457</td>\n",
       "      <td>0.553</td>\n",
       "      <td>NaN</td>\n",
       "      <td>0.000</td>\n",
       "      <td>0.001</td>\n",
       "      <td>I</td>\n",
       "      <td>1963-12-31</td>\n",
       "    </tr>\n",
       "    <tr>\n",
       "      <th>3</th>\n",
       "      <td>1000</td>\n",
       "      <td>12/31/1964</td>\n",
       "      <td>1964</td>\n",
       "      <td>INDL</td>\n",
       "      <td>C</td>\n",
       "      <td>D</td>\n",
       "      <td>STD</td>\n",
       "      <td>AE.2</td>\n",
       "      <td>USD</td>\n",
       "      <td>0.718</td>\n",
       "      <td>...</td>\n",
       "      <td>0.0</td>\n",
       "      <td>0.001</td>\n",
       "      <td>2.032</td>\n",
       "      <td>2.032</td>\n",
       "      <td>0.607</td>\n",
       "      <td>NaN</td>\n",
       "      <td>0.007</td>\n",
       "      <td>0.020</td>\n",
       "      <td>I</td>\n",
       "      <td>1964-12-31</td>\n",
       "    </tr>\n",
       "    <tr>\n",
       "      <th>4</th>\n",
       "      <td>1000</td>\n",
       "      <td>12/31/1965</td>\n",
       "      <td>1965</td>\n",
       "      <td>INDL</td>\n",
       "      <td>C</td>\n",
       "      <td>D</td>\n",
       "      <td>STD</td>\n",
       "      <td>AE.2</td>\n",
       "      <td>USD</td>\n",
       "      <td>0.725</td>\n",
       "      <td>...</td>\n",
       "      <td>0.0</td>\n",
       "      <td>-0.196</td>\n",
       "      <td>1.688</td>\n",
       "      <td>1.688</td>\n",
       "      <td>0.491</td>\n",
       "      <td>NaN</td>\n",
       "      <td>0.000</td>\n",
       "      <td>-0.103</td>\n",
       "      <td>I</td>\n",
       "      <td>1965-12-31</td>\n",
       "    </tr>\n",
       "  </tbody>\n",
       "</table>\n",
       "<p>5 rows × 38 columns</p>\n",
       "</div>"
      ],
      "text/plain": [
       "   gvkey    datadate  fyear indfmt consol popsrc datafmt   tic curcd    act  \\\n",
       "0   1000  12/31/1961   1961   INDL      C      D     STD  AE.2   USD    NaN   \n",
       "1   1000  12/31/1962   1962   INDL      C      D     STD  AE.2   USD    NaN   \n",
       "2   1000  12/31/1963   1963   INDL      C      D     STD  AE.2   USD  0.408   \n",
       "3   1000  12/31/1964   1964   INDL      C      D     STD  AE.2   USD  0.718   \n",
       "4   1000  12/31/1965   1965   INDL      C      D     STD  AE.2   USD  0.725   \n",
       "\n",
       "       ...        pstkrv     re   revt   sale    seq  tie    txp    txt  \\\n",
       "0      ...           NaN    NaN  0.900  0.900    NaN  NaN    NaN  0.050   \n",
       "1      ...           NaN    NaN  1.600  1.600    NaN  NaN    NaN  0.090   \n",
       "2      ...           0.0  0.052  1.457  1.457  0.553  NaN  0.000  0.001   \n",
       "3      ...           0.0  0.001  2.032  2.032  0.607  NaN  0.007  0.020   \n",
       "4      ...           0.0 -0.196  1.688  1.688  0.491  NaN  0.000 -0.103   \n",
       "\n",
       "   costat  datadate_date  \n",
       "0       I     1961-12-31  \n",
       "1       I     1962-12-31  \n",
       "2       I     1963-12-31  \n",
       "3       I     1964-12-31  \n",
       "4       I     1965-12-31  \n",
       "\n",
       "[5 rows x 38 columns]"
      ]
     },
     "execution_count": 16,
     "metadata": {},
     "output_type": "execute_result"
    }
   ],
   "source": [
    "compustat.head()"
   ]
  },
  {
   "cell_type": "code",
   "execution_count": 5,
   "metadata": {},
   "outputs": [],
   "source": [
    "# function to change E to today()\n",
    "from datetime import date\n",
    "def change_LINKENDDT(x):\n",
    "    if(x=='E'): x = date.today()\n",
    "    else : pass\n",
    "    return x\n",
    "change_LINKENDDT_vectorize = np.vectorize(change_LINKENDDT)"
   ]
  },
  {
   "cell_type": "code",
   "execution_count": 6,
   "metadata": {},
   "outputs": [],
   "source": [
    "linking_table['LINKENDDT_date'] = pd.to_datetime(change_LINKENDDT_vectorize(linking_table['LINKENDDT']),infer_datetime_format=True)\n",
    "linking_table['LINKDT_date'] = pd.to_datetime(linking_table['LINKDT'],infer_datetime_format=True)\n",
    "compustat['datadate_date'] = pd.to_datetime(compustat['datadate'],infer_datetime_format=True)"
   ]
  },
  {
   "cell_type": "code",
   "execution_count": 22,
   "metadata": {},
   "outputs": [],
   "source": [
    "compustat_linked_merge = compustat.merge(linking_table,how='outer',left_on=['gvkey'],right_on=['gvkey'],validate='many_to_many')"
   ]
  },
  {
   "cell_type": "code",
   "execution_count": 35,
   "metadata": {},
   "outputs": [],
   "source": [
    "# drop if compustat dates are between effective start and end\n",
    "compustat_linked_merge_drop = compustat_linked_merge[(compustat_linked_merge.datadate_date >= compustat_linked_merge.LINKDT_date) & (compustat_linked_merge.datadate_date <=  compustat_linked_merge.LINKENDDT_date)]"
   ]
  },
  {
   "cell_type": "code",
   "execution_count": 38,
   "metadata": {},
   "outputs": [
    {
     "data": {
      "text/plain": [
       "(572454, 48)"
      ]
     },
     "execution_count": 38,
     "metadata": {},
     "output_type": "execute_result"
    }
   ],
   "source": [
    "compustat_linked_merge.shape"
   ]
  },
  {
   "cell_type": "code",
   "execution_count": 39,
   "metadata": {},
   "outputs": [
    {
     "data": {
      "text/plain": [
       "(388169, 48)"
      ]
     },
     "execution_count": 39,
     "metadata": {},
     "output_type": "execute_result"
    }
   ],
   "source": [
    "compustat_linked_merge_drop.shape"
   ]
  },
  {
   "cell_type": "code",
   "execution_count": 40,
   "metadata": {},
   "outputs": [
    {
     "data": {
      "text/plain": [
       "(474879, 38)"
      ]
     },
     "execution_count": 40,
     "metadata": {},
     "output_type": "execute_result"
    }
   ],
   "source": [
    "compustat.shape"
   ]
  },
  {
   "cell_type": "code",
   "execution_count": 14,
   "metadata": {},
   "outputs": [],
   "source": [
    "#df = compustat_linked.drop(compustat_linked[(compustat_linked.datadate >= compustat_linked.LINKDT) & (compustat_linked.datadate <=  compustat_linked.LINKENDDT)].index)"
   ]
  },
  {
   "cell_type": "code",
   "execution_count": 15,
   "metadata": {},
   "outputs": [
    {
     "data": {
      "text/plain": [
       "gvkey  datadate  \n",
       "4736   12/31/1970    2\n",
       "61815  12/31/2008    2\n",
       "       12/31/2010    2\n",
       "       12/31/2011    2\n",
       "       12/31/2012    2\n",
       "dtype: int64"
      ]
     },
     "execution_count": 15,
     "metadata": {},
     "output_type": "execute_result"
    }
   ],
   "source": [
    "compustat.groupby(['gvkey','datadate']).size().sort_values(ascending=False).head()"
   ]
  },
  {
   "cell_type": "code",
   "execution_count": 43,
   "metadata": {},
   "outputs": [
    {
     "data": {
      "text/plain": [
       "25077"
      ]
     },
     "execution_count": 43,
     "metadata": {},
     "output_type": "execute_result"
    }
   ],
   "source": [
    "linking_table['gvkey'].nunique()"
   ]
  },
  {
   "cell_type": "code",
   "execution_count": 44,
   "metadata": {},
   "outputs": [
    {
     "data": {
      "text/plain": [
       "33471"
      ]
     },
     "execution_count": 44,
     "metadata": {},
     "output_type": "execute_result"
    }
   ],
   "source": [
    "compustat['gvkey'].nunique()"
   ]
  },
  {
   "cell_type": "code",
   "execution_count": null,
   "metadata": {},
   "outputs": [],
   "source": []
  }
 ],
 "metadata": {
  "kernelspec": {
   "display_name": "Python 3",
   "language": "python",
   "name": "python3"
  },
  "language_info": {
   "codemirror_mode": {
    "name": "ipython",
    "version": 3
   },
   "file_extension": ".py",
   "mimetype": "text/x-python",
   "name": "python",
   "nbconvert_exporter": "python",
   "pygments_lexer": "ipython3",
   "version": "3.6.7"
  }
 },
 "nbformat": 4,
 "nbformat_minor": 2
}
