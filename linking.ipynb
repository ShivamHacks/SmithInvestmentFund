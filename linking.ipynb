{
 "cells": [
  {
   "cell_type": "code",
   "execution_count": null,
   "metadata": {},
   "outputs": [],
   "source": [
    "import pandas as pd\n",
    "import numpy as np"
   ]
  },
  {
   "cell_type": "code",
   "execution_count": null,
   "metadata": {},
   "outputs": [],
   "source": [
    "compustat = pd.read_csv(\"Compustat19612018.csv\")\n",
    "crsp = pd.read_csv(\"CRSP2007_2018.csv\")\n",
    "linking_table = pd.read_csv(\"CompustatMergedDatabase.csv\")"
   ]
  },
  {
   "cell_type": "code",
   "execution_count": null,
   "metadata": {},
   "outputs": [],
   "source": [
    "# We need link gvkey to compustat if compustat.datadate is between linking_table.LINKDT and linking_table.LINKENDDT\n",
    "linking_table.head()"
   ]
  },
  {
   "cell_type": "code",
   "execution_count": null,
   "metadata": {},
   "outputs": [],
   "source": [
    "crsp.head()"
   ]
  },
  {
   "cell_type": "code",
   "execution_count": null,
   "metadata": {},
   "outputs": [],
   "source": [
    "# function to change E to today()\n",
    "from datetime import date\n",
    "def change_LINKENDDT(x):\n",
    "    if(x=='E'): x = date.today()\n",
    "    else : pass\n",
    "    return x\n",
    "change_LINKENDDT_vectorize = np.vectorize(change_LINKENDDT)"
   ]
  },
  {
   "cell_type": "code",
   "execution_count": null,
   "metadata": {},
   "outputs": [],
   "source": [
    "linking_table['LINKENDDT_date'] = pd.to_datetime(change_LINKENDDT_vectorize(linking_table['LINKENDDT']),infer_datetime_format=True)\n",
    "linking_table['LINKDT_date'] = pd.to_datetime(linking_table['LINKDT'],infer_datetime_format=True)\n",
    "compustat['datadate_date'] = pd.to_datetime(compustat['datadate'],infer_datetime_format=True)"
   ]
  },
  {
   "cell_type": "code",
   "execution_count": null,
   "metadata": {},
   "outputs": [],
   "source": [
    "compustat_linked_join = compustat.set_index('gvkey').join(linking_table.set_index('gvkey'))"
   ]
  },
  {
   "cell_type": "code",
   "execution_count": null,
   "metadata": {},
   "outputs": [],
   "source": [
    "compustat_linked_merge = compustat.merge(linking_table,how='outer',left_on=['gvkey'],right_on=['gvkey'],validate='many_to_many')"
   ]
  },
  {
   "cell_type": "code",
   "execution_count": null,
   "metadata": {},
   "outputs": [],
   "source": [
    "compustat_linked_merge_drop = compustat_linked_merge.drop(compustat_linked_merge[(compustat_linked_merge.datadate_date >= compustat_linked_merge.LINKDT_date) & (compustat_linked_merge.datadate_date <=  compustat_linked_merge.LINKENDDT_date)].index)"
   ]
  },
  {
   "cell_type": "code",
   "execution_count": null,
   "metadata": {},
   "outputs": [],
   "source": [
    "compustat_linked_join.shape"
   ]
  },
  {
   "cell_type": "code",
   "execution_count": null,
   "metadata": {},
   "outputs": [],
   "source": [
    "compustat_linked_merge.shape"
   ]
  },
  {
   "cell_type": "code",
   "execution_count": null,
   "metadata": {},
   "outputs": [],
   "source": [
    "compustat_linked_merge_drop.shape"
   ]
  },
  {
   "cell_type": "code",
   "execution_count": null,
   "metadata": {},
   "outputs": [],
   "source": [
    "compustat.shape"
   ]
  },
  {
   "cell_type": "code",
   "execution_count": null,
   "metadata": {},
   "outputs": [],
   "source": [
    "#df = compustat_linked.drop(compustat_linked[(compustat_linked.datadate >= compustat_linked.LINKDT) & (compustat_linked.datadate <=  compustat_linked.LINKENDDT)].index)"
   ]
  },
  {
   "cell_type": "code",
   "execution_count": null,
   "metadata": {},
   "outputs": [],
   "source": [
    "compustat.groupby(['gvkey','datadate']).size().sort_values(ascending=False).head()"
   ]
  },
  {
   "cell_type": "code",
   "execution_count": null,
   "metadata": {},
   "outputs": [],
   "source": []
  }
 ],
 "metadata": {
  "kernelspec": {
   "display_name": "Python 3",
   "language": "python",
   "name": "python3"
  },
  "language_info": {
   "codemirror_mode": {
    "name": "ipython",
    "version": 3
   },
   "file_extension": ".py",
   "mimetype": "text/x-python",
   "name": "python",
   "nbconvert_exporter": "python",
   "pygments_lexer": "ipython3",
   "version": "3.6.7"
  }
 },
 "nbformat": 4,
 "nbformat_minor": 2
}
