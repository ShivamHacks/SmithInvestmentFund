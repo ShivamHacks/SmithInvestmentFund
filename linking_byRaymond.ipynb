{
 "cells": [
  {
   "cell_type": "code",
   "execution_count": null,
   "metadata": {},
   "outputs": [],
   "source": [
    "import pandas as pd\n",
    "import numpy as np"
   ]
  },
  {
   "cell_type": "code",
   "execution_count": null,
   "metadata": {},
   "outputs": [],
   "source": [
    "compustat = pd.read_csv(\"Compustat19612018.csv\")\n",
    "crsp = pd.read_csv(\"CRSP2007_2018.csv\")\n",
    "linking_table = pd.read_csv(\"CompustatMergedDatabase.csv\")"
   ]
  },
  {
   "cell_type": "code",
   "execution_count": null,
   "metadata": {},
   "outputs": [],
   "source": [
    "# We need link gvkey to compustat if compustat.datadate is between linking_table.LINKDT and linking_table.LINKENDDT\n",
    "linking_table.head()"
   ]
  },
  {
   "cell_type": "code",
   "execution_count": null,
   "metadata": {},
   "outputs": [],
   "source": [
    "# function to change E, which means the company still alive today, in linking table to today()\n",
    "from datetime import date\n",
    "def change_LINKENDDT(x):\n",
    "    if(x=='E'): x = date.today()\n",
    "    else : pass\n",
    "    return x\n",
    "change_LINKENDDT_vectorize = np.vectorize(change_LINKENDDT)"
   ]
  },
  {
   "cell_type": "code",
   "execution_count": null,
   "metadata": {},
   "outputs": [],
   "source": [
    "# covert date using pandas to_date()\n",
    "linking_table['LINKENDDT_date'] = pd.to_datetime(change_LINKENDDT_vectorize(linking_table['LINKENDDT']),infer_datetime_format=True)\n",
    "linking_table['LINKDT_date'] = pd.to_datetime(linking_table['LINKDT'],infer_datetime_format=True)\n",
    "compustat['datadate_date'] = pd.to_datetime(compustat['datadate'],infer_datetime_format=True)"
   ]
  },
  {
   "cell_type": "code",
   "execution_count": null,
   "metadata": {},
   "outputs": [],
   "source": [
    "# link compustat and linking_table on gvkey of both\n",
    "compustat_linking = compustat.merge(linking_table,how='outer',left_on=['gvkey'],right_on=['gvkey'],validate='many_to_many')"
   ]
  },
  {
   "cell_type": "code",
   "execution_count": null,
   "metadata": {},
   "outputs": [],
   "source": [
    "# drop if compustat dates are between effective start LINKDT_date and end LINKENDDT_date\n",
    "compustat_linking_drop = compustat_linking[(compustat_linking.datadate_date >= compustat_linking.LINKDT_date) & (compustat_linking.datadate_date <=  compustat_linking.LINKENDDT_date)]"
   ]
  },
  {
   "cell_type": "code",
   "execution_count": null,
   "metadata": {},
   "outputs": [],
   "source": [
    "# check the shape of new dataframe\n",
    "print(compustat_linking.shape)\n",
    "print(compustat_linking_drop.shape)\n",
    "print(compustat.shape)"
   ]
  },
  {
   "cell_type": "code",
   "execution_count": null,
   "metadata": {},
   "outputs": [],
   "source": [
    "# merge compustat_linking_drop and crsp using to LPERMCO from linking table and PERMNO fron crsp to compustat_crsp\n",
    "compustat_crsp = compustat_linking_drop.merge(crsp,how='outer',left_on=['LPERMCO'],right_on=['PERMNO'])"
   ]
  },
  {
   "cell_type": "code",
   "execution_count": null,
   "metadata": {},
   "outputs": [],
   "source": [
    "# check shape of compustat_crsp\n",
    "compustat_crsp.shape"
   ]
  },
  {
   "cell_type": "code",
   "execution_count": null,
   "metadata": {},
   "outputs": [],
   "source": [
    "# check compustat_crsp\n",
    "compustat_crsp.head(50)"
   ]
  },
  {
   "cell_type": "markdown",
   "metadata": {},
   "source": [
    "### Ignore below"
   ]
  },
  {
   "cell_type": "code",
   "execution_count": null,
   "metadata": {},
   "outputs": [],
   "source": [
    "#df = compustat_linked.drop(compustat_linked[(compustat_linked.datadate >= compustat_linked.LINKDT) & (compustat_linked.datadate <=  compustat_linked.LINKENDDT)].index)"
   ]
  },
  {
   "cell_type": "code",
   "execution_count": null,
   "metadata": {},
   "outputs": [],
   "source": [
    "#compustat.groupby(['gvkey','datadate']).size().sort_values(ascending=False).head()"
   ]
  },
  {
   "cell_type": "code",
   "execution_count": null,
   "metadata": {},
   "outputs": [],
   "source": [
    "print(linking_table['gvkey'].size)\n",
    "print(linking_table['gvkey'].nunique())\n",
    "\n",
    "print(compustat['gvkey'].size)\n",
    "print(compustat['gvkey'].nunique())"
   ]
  },
  {
   "cell_type": "code",
   "execution_count": null,
   "metadata": {},
   "outputs": [],
   "source": []
  }
 ],
 "metadata": {
  "kernelspec": {
   "display_name": "Python 3",
   "language": "python",
   "name": "python3"
  },
  "language_info": {
   "codemirror_mode": {
    "name": "ipython",
    "version": 3
   },
   "file_extension": ".py",
   "mimetype": "text/x-python",
   "name": "python",
   "nbconvert_exporter": "python",
   "pygments_lexer": "ipython3",
   "version": "3.6.7"
  }
 },
 "nbformat": 4,
 "nbformat_minor": 2
}
